{
 "cells": [
  {
   "cell_type": "markdown",
   "id": "e3da4915-80a0-476e-92ca-c9eb0e4f923e",
   "metadata": {
    "slideshow": {
     "slide_type": "slide"
    },
    "tags": []
   },
   "source": [
    "# ETL Pipelines for Data Analysts"
   ]
  },
  {
   "cell_type": "code",
   "execution_count": 1,
   "id": "252bbaa7-034d-40bc-92a1-0df1828220de",
   "metadata": {},
   "outputs": [],
   "source": [
    "import pandas as pd\n",
    "from prefect import task, Flow\n",
    "import sqlite3\n",
    "from contextlib import closing\n",
    "from prefect.tasks.database.sqlite import SQLiteScript\n",
    "\n",
    "\n",
    "pd.options.display.max_rows = None\n",
    "pd.options.display.max_columns = None"
   ]
  },
  {
   "cell_type": "markdown",
   "id": "4f410c35-7633-40aa-9e9a-97aea8864e09",
   "metadata": {},
   "source": [
    "## Extract"
   ]
  },
  {
   "cell_type": "code",
   "execution_count": 2,
   "id": "85142b2e-1da7-4f9b-a740-0e1df22a13e3",
   "metadata": {},
   "outputs": [],
   "source": [
    "london_path = '../data/raw/london/london_bikes.db'\n",
    "seoul_path = '../data/raw/seoul/SeoulBikeData.csv'\n",
    "wash_dc_path = '../data/raw/wash_dc/washington.json'\n",
    "clean_path = '../data/processed/clean.parquet'\n",
    "clean_db_path = '../data/processed/bikes.db'"
   ]
  },
  {
   "cell_type": "code",
   "execution_count": 3,
   "id": "5de710fa-41ac-4f60-a423-caee8a66bb32",
   "metadata": {},
   "outputs": [],
   "source": [
    "@task\n",
    "def extract_1(path):\n",
    "    return pd.read_csv(path)"
   ]
  },
  {
   "cell_type": "code",
   "execution_count": 4,
   "id": "e0d768fd-8626-4a74-9329-479801f3b0f2",
   "metadata": {},
   "outputs": [],
   "source": [
    "@task\n",
    "def extract_2(path):\n",
    "    conn = sqlite3.connect(path)\n",
    "    query = \"SELECT * FROM uk_bikes\"\n",
    "    return pd.read_sql_query(query, conn)"
   ]
  },
  {
   "cell_type": "code",
   "execution_count": 5,
   "id": "9546cf40-3b72-45ac-9875-9c2aff678171",
   "metadata": {},
   "outputs": [],
   "source": [
    "@task\n",
    "def extract_3(path):\n",
    "    return pd.read_json(path)"
   ]
  },
  {
   "cell_type": "markdown",
   "id": "04488071-8206-4b5e-9c05-ced7c12d3705",
   "metadata": {},
   "source": [
    "## Transformcolumns"
   ]
  },
  {
   "cell_type": "markdown",
   "id": "d11c8868-7f73-4f58-9f58-6ff44971100b",
   "metadata": {},
   "source": [
    "## 1. Normalize Columns"
   ]
  },
  {
   "cell_type": "code",
   "execution_count": 6,
   "id": "a0466458-6857-40b2-a7ff-ac045078b4bc",
   "metadata": {
    "jupyter": {
     "source_hidden": true
    },
    "tags": []
   },
   "outputs": [],
   "source": [
    "# import sqlite3\n",
    "# from contextlib import closing\n",
    "\n",
    "# conn = sqlite3.connect(\"../data/raw/london/london_bikes.db\")\n",
    "\n",
    "# # c = conn.execute(\"\"\"CREATE TABLE uk_bikes (\n",
    "# #                     timestamp text,\n",
    "# #                     cnt integer,\n",
    "# #                     t1 real,\n",
    "# #                     t2 real,\n",
    "# #                     hum real,\n",
    "# #                     wind_speed real,\n",
    "# #                     weather_code real,\n",
    "# #                     is_holiday real,\n",
    "# #                     is_weekend real,\n",
    "# #                     seasonreal real\n",
    "# #                     )\"\"\"\n",
    "# #                 )\n",
    "\n",
    "# london = pd.read_csv(london_path)\n",
    "# data = list(london.itertuples(name='Bikes', index=False))\n",
    "\n",
    "# insert_cmd = \"INSERT INTO uk_bikes VALUES (?, ?, ?, ?, ?, ?, ?, ?, ?, ?)\"\n",
    "\n",
    "# with closing(sqlite3.connect(\"london_bikes.db\")) as conn:\n",
    "#     with closing(conn.cursor()) as cursor:\n",
    "#         cursor.executemany(insert_cmd, data)\n",
    "#         conn.commit()\n",
    "\n",
    "# c = conn.cursor()\n",
    "\n",
    "# c.execute(\"SELECT * FROM uk_bikes\")\n",
    "# print(c.fetchmany(5))\n",
    "\n",
    "# pd.read_sql_query(\"SELECT * FROM uk_bikes\", conn).shape\n",
    "\n",
    "# conn.commit()\n",
    "\n",
    "# conn.close()"
   ]
  },
  {
   "cell_type": "code",
   "execution_count": 7,
   "id": "d8e6d666-d0e2-48c1-8e67-74a4e3424127",
   "metadata": {},
   "outputs": [],
   "source": [
    "# @task\n",
    "def change_cols(data, cols_list):\n",
    "    data.columns = cols_list\n",
    "    return data"
   ]
  },
  {
   "cell_type": "code",
   "execution_count": 8,
   "id": "672dac84-c810-4b79-b4c6-0ddc6ba394c2",
   "metadata": {},
   "outputs": [],
   "source": [
    "london_cols = ['date', 'count', 'temperature', 'temp_feels_like', 'humidity', 'wind_speed', 'weather_code', 'is_holiday', 'is_weekend', 'seasons']\n",
    "seoul_cols = ['date', 'count', 'hour', 'temperature', 'humidity', 'wind_speed', 'visibility', 'dew_point_temp', 'solar_radiation', 'rainfall', 'snowfall', 'seasons', 'is_holiday', 'functioning_day']\n",
    "wa_dc_cols = ['instant', 'date', 'seasons', 'year', 'month', 'hour', 'is_holiday', 'weekday', 'workingday', 'weathersit', 'temperature', 'temp_feels_like', 'humidity', 'wind_speed', 'casual', 'registered', 'count']"
   ]
  },
  {
   "cell_type": "code",
   "execution_count": 9,
   "id": "214364a6-7928-45bf-b6f9-05c6c4c7a57e",
   "metadata": {},
   "outputs": [],
   "source": [
    "# @task\n",
    "def add_dates_and_location(data, city, country):\n",
    "    \n",
    "    data['date'] = pd.to_datetime(data['date'])\n",
    "    \n",
    "    data[\"year\"] = data['date'].dt.year\n",
    "    data[\"month\"] = data['date'].dt.month\n",
    "    data[\"week\"] = data['date'].dt.isocalendar().week.astype(int)\n",
    "    data[\"day\"] = data['date'].dt.day\n",
    "    data[\"hour\"] = data['date'].dt.hour\n",
    "    data[\"weekday\"] = data['date'].dt.dayofweek\n",
    "    data[\"is_weekend\"] = (data[\"weekday\"] > 4).astype(int)\n",
    "    data['date'] = data['date'].dt.date\n",
    "\n",
    "    data['city'] = city\n",
    "    data['country'] = country\n",
    "    \n",
    "    return data"
   ]
  },
  {
   "cell_type": "code",
   "execution_count": 10,
   "id": "22f7c411-8025-44de-92c3-e09921fe6784",
   "metadata": {},
   "outputs": [],
   "source": [
    "seasons_london = {0: 'Spring', 1: 'Summer', 2: 'Fall', 3: 'Winter'}\n",
    "seasons_wa_dc = {1: 'Spring', 2: 'Summer', 3: 'Fall', 4: 'Winter'}\n",
    "holidays_seoul = {'No Holiday': 0, 'Holiday': 1}"
   ]
  },
  {
   "cell_type": "code",
   "execution_count": 11,
   "id": "6171dc00-0da7-4ed0-82f2-42215578ddfd",
   "metadata": {},
   "outputs": [],
   "source": [
    "cols_drop_london = ['temp_feels_like', 'weather_code']\n",
    "cols_drop_seoul = ['visibility', 'dew_point_temp', 'solar_radiation', 'rainfall', 'snowfall', 'functioning_day']\n",
    "cols_drop_wa_dc = ['instant', 'temp_feels_like', 'casual', 'registered', 'workingday', 'weathersit']"
   ]
  },
  {
   "cell_type": "code",
   "execution_count": 12,
   "id": "0c3666d7-9b2e-4fdb-9229-7bf1ab20308e",
   "metadata": {},
   "outputs": [],
   "source": [
    "# @task\n",
    "def fix_and_drop(data, col_to_fix, mapping, cols_to_drop):\n",
    "    data[col_to_fix] = data[col_to_fix].map(mapping)\n",
    "    return data.drop(cols_to_drop, axis=1)"
   ]
  },
  {
   "cell_type": "code",
   "execution_count": 13,
   "id": "5cdcf2c5-36b6-4427-bf40-2e7bdb43fb8c",
   "metadata": {},
   "outputs": [],
   "source": [
    "# @task\n",
    "def normalize_vars(data):\n",
    "    data['temperature'] = data['temperature'].apply(lambda x: (x * 47) - 8)\n",
    "    data['humidity'] = data['humidity'].apply(lambda x: (x / 100))\n",
    "    data['wind_speed'] = data['wind_speed'].apply(lambda x: (x / 67))\n",
    "    return data"
   ]
  },
  {
   "cell_type": "code",
   "execution_count": null,
   "id": "8ea4f37b-6677-451d-83eb-bc0b1909a845",
   "metadata": {},
   "outputs": [],
   "source": []
  },
  {
   "cell_type": "code",
   "execution_count": 14,
   "id": "d5a9aaf5-487f-4ea8-8c97-888e8fd4b87c",
   "metadata": {},
   "outputs": [],
   "source": [
    "# @task\n",
    "def order_and_merge(data_lists):\n",
    "    \n",
    "    pick_order = data_lists[0].columns\n",
    "    new_list = [d.reindex(columns=pick_order).sort_values(['date', 'hour']) for d in data_lists]\n",
    "    df = pd.concat(new_list)\n",
    "    return df"
   ]
  },
  {
   "cell_type": "code",
   "execution_count": 15,
   "id": "dfc7ffcd-91f1-43a1-bf17-bb151a5e91bf",
   "metadata": {},
   "outputs": [],
   "source": [
    "@task\n",
    "def transform(london, seoul, washington):\n",
    "    \n",
    "    london = (london.pipe(change_cols, london_cols)\n",
    "                    .pipe(add_dates_and_location, 'London', 'UK')\n",
    "                    .pipe(fix_and_drop, 'seasons', seasons_london, cols_drop_london))\n",
    "    \n",
    "    seoul = (seoul.pipe(change_cols, seoul_cols)\n",
    "                  .pipe(add_dates_and_location, 'Seoul', 'SK')\n",
    "                  .pipe(fix_and_drop, 'is_holiday', holidays_seoul, cols_drop_seoul))\n",
    "    \n",
    "    wash_dc = (washington.pipe(change_cols, wa_dc_cols)\n",
    "                         .pipe(add_dates_and_location, 'DC', 'USA')\n",
    "                         .pipe(fix_and_drop, 'seasons', seasons_wa_dc, cols_drop_wa_dc)\n",
    "                         .pipe(normalize_vars))\n",
    "    \n",
    "    return order_and_merge([london, seoul, wash_dc])\n",
    "    \n",
    "    # return [london, seoul, wash_dc]"
   ]
  },
  {
   "cell_type": "code",
   "execution_count": 16,
   "id": "5950be4b-52f2-4073-88ee-89cabe6baff8",
   "metadata": {},
   "outputs": [],
   "source": [
    "# import sqlite3\n",
    "# from contextlib import closing\n",
    "\n",
    "# conn = sqlite3.connect(\"../data/raw/london/london_bikes.db\")\n",
    "\n",
    "new_table = SQLiteScript(\n",
    "    db=clean_db_path,\n",
    "    script=\"\"\"CREATE TABLE IF NOT EXISTS bike_sharing (date text, count integer, temperature real, humidity real,\n",
    "              wind_speed real, is_holiday real, is_weekend integer, seasons text, year integer,\n",
    "              month integer, week integer, day integer,hour integer, weekday integer, city text,\n",
    "              country text)\"\"\"\n",
    "    )\n",
    "\n",
    "# london = pd.read_csv(london_path)\n",
    "# data = list(london.itertuples(name='Bikes', index=False))\n",
    "\n",
    "# insert_cmd = \"INSERT INTO uk_bikes VALUES (?, ?, ?, ?, ?, ?, ?, ?, ?, ?)\"\n",
    "\n",
    "# with closing(sqlite3.connect(\"london_bikes.db\")) as conn:\n",
    "#     with closing(conn.cursor()) as cursor:\n",
    "#         cursor.executemany(insert_cmd, data)\n",
    "#         conn.commit()"
   ]
  },
  {
   "cell_type": "code",
   "execution_count": null,
   "id": "510f6da0-9164-4816-82c6-70580b253d4c",
   "metadata": {},
   "outputs": [],
   "source": []
  },
  {
   "cell_type": "code",
   "execution_count": 17,
   "id": "89c182e4-9f1d-437c-8f22-a917c2b3e3a0",
   "metadata": {},
   "outputs": [],
   "source": [
    "@task\n",
    "def load(data, path_and_name):\n",
    "    \n",
    "    data = list(data.itertuples(name='Bikes', index=False))\n",
    "    \n",
    "    insert_cmd = \"INSERT INTO bike_sharing VALUES (?, ?, ?, ?, ?, ?, ?, ?, ?, ?, ?, ?, ?, ?, ?, ?)\"\n",
    "    with closing(sqlite3.connect(path_and_name)) as conn:\n",
    "        with closing(conn.cursor()) as cursor:\n",
    "            cursor.executemany(insert_cmd, data)\n",
    "            conn.commit()"
   ]
  },
  {
   "cell_type": "code",
   "execution_count": 18,
   "id": "9f66fa2b-2370-4ff8-8167-edadc25cdce5",
   "metadata": {},
   "outputs": [],
   "source": [
    "# @task\n",
    "# def load(data, path_and_name):\n",
    "#     data.to_parquet(path_and_name, compression='snappy')"
   ]
  },
  {
   "cell_type": "code",
   "execution_count": null,
   "id": "f0d522b7-613d-48f5-827a-5168f670d09f",
   "metadata": {},
   "outputs": [],
   "source": []
  },
  {
   "cell_type": "code",
   "execution_count": 19,
   "id": "8bb22b7e-8093-4289-a779-073dc0df1937",
   "metadata": {
    "jupyter": {
     "source_hidden": true
    },
    "tags": []
   },
   "outputs": [],
   "source": [
    "# with Flow('bikes-ETL') as flow:\n",
    "    \n",
    "#     london = extract_data(london_path)\n",
    "#     seoul = extract_data(seoul_path)\n",
    "#     wash_dc = extract_data(wash_dc_path)\n",
    "    \n",
    "#     london = change_cols(london, london_cols)\n",
    "#     seoul = change_cols(seoul, seoul_cols)\n",
    "#     wash_dc = change_cols(wash_dc, wa_dc_cols)\n",
    "    \n",
    "#     london = add_dates_and_location(london, 'London', 'UK')\n",
    "#     seoul = add_dates_and_location(seoul, 'Seoul', 'SK')\n",
    "#     wash_dc = add_dates_and_location(wash_dc, 'DC', 'USA')\n",
    "    \n",
    "#     london = fix_and_drop(london, 'seasons', seasons_london, cols_drop_london)\n",
    "#     seoul = fix_and_drop(seoul, 'is_holiday', holidays_seoul, cols_drop_seoul)\n",
    "#     wash_dc = fix_and_drop(wash_dc, 'seasons', seasons_wa_dc, cols_drop_wa_dc)\n",
    "    \n",
    "#     wash_dc = normalize_vars(wash_dc)\n",
    "    \n",
    "#     df = order_and_merge([london, seoul, wash_dc])\n",
    "    \n",
    "#     load(df, clean_path)"
   ]
  },
  {
   "cell_type": "code",
   "execution_count": 20,
   "id": "68bb71a3-7cc1-4306-a769-40f892450389",
   "metadata": {},
   "outputs": [],
   "source": [
    "with Flow('bikes-ETL') as flow:\n",
    "    \n",
    "    the_table = new_table()\n",
    "    \n",
    "    london = extract_2(london_path)\n",
    "    seoul = extract_1(seoul_path)\n",
    "    wash_dc = extract_3(wash_dc_path)\n",
    "    \n",
    "    transformed = transform(london, seoul, wash_dc)\n",
    "        \n",
    "    data_loaded = load(transformed, clean_db_path)\n",
    "    data_loaded.set_upstream(the_table)"
   ]
  },
  {
   "cell_type": "code",
   "execution_count": 21,
   "id": "d7739068-372f-44f7-895d-1bafa38bfd05",
   "metadata": {},
   "outputs": [
    {
     "data": {
      "image/svg+xml": [
       "<?xml version=\"1.0\" encoding=\"UTF-8\" standalone=\"no\"?>\n",
       "<!DOCTYPE svg PUBLIC \"-//W3C//DTD SVG 1.1//EN\"\n",
       " \"http://www.w3.org/Graphics/SVG/1.1/DTD/svg11.dtd\">\n",
       "<!-- Generated by graphviz version 2.48.0 (20210717.2242)\n",
       " -->\n",
       "<!-- Pages: 1 -->\n",
       "<svg width=\"335pt\" height=\"218pt\"\n",
       " viewBox=\"0.00 0.00 334.74 218.00\" xmlns=\"http://www.w3.org/2000/svg\" xmlns:xlink=\"http://www.w3.org/1999/xlink\">\n",
       "<g id=\"graph0\" class=\"graph\" transform=\"scale(1 1) rotate(0) translate(4 214)\">\n",
       "<polygon fill=\"white\" stroke=\"transparent\" points=\"-4,4 -4,-214 330.74,-214 330.74,4 -4,4\"/>\n",
       "<!-- 140113922945280 -->\n",
       "<g id=\"node1\" class=\"node\">\n",
       "<title>140113922945280</title>\n",
       "<ellipse fill=\"none\" stroke=\"black\" cx=\"178.19\" cy=\"-105\" rx=\"45.49\" ry=\"18\"/>\n",
       "<text text-anchor=\"middle\" x=\"178.19\" y=\"-101.3\" font-family=\"Times,serif\" font-size=\"14.00\">transform</text>\n",
       "</g>\n",
       "<!-- 140113923390768 -->\n",
       "<g id=\"node6\" class=\"node\">\n",
       "<title>140113923390768</title>\n",
       "<ellipse fill=\"none\" stroke=\"black\" cx=\"73.19\" cy=\"-18\" rx=\"27\" ry=\"18\"/>\n",
       "<text text-anchor=\"middle\" x=\"73.19\" y=\"-14.3\" font-family=\"Times,serif\" font-size=\"14.00\">load</text>\n",
       "</g>\n",
       "<!-- 140113922945280&#45;&gt;140113923390768 -->\n",
       "<g id=\"edge4\" class=\"edge\">\n",
       "<title>140113922945280&#45;&gt;140113923390768</title>\n",
       "<path fill=\"none\" stroke=\"black\" d=\"M158.94,-88.41C141.71,-74.47 116.38,-53.96 97.71,-38.85\"/>\n",
       "<polygon fill=\"black\" stroke=\"black\" points=\"99.88,-36.1 89.91,-32.53 95.48,-41.54 99.88,-36.1\"/>\n",
       "<text text-anchor=\"middle\" x=\"143.69\" y=\"-57.8\" font-family=\"Times,serif\" font-size=\"14.00\">data</text>\n",
       "</g>\n",
       "<!-- 140113922945760 -->\n",
       "<g id=\"node2\" class=\"node\">\n",
       "<title>140113922945760</title>\n",
       "<ellipse fill=\"none\" stroke=\"black\" cx=\"73.19\" cy=\"-192\" rx=\"43.59\" ry=\"18\"/>\n",
       "<text text-anchor=\"middle\" x=\"73.19\" y=\"-188.3\" font-family=\"Times,serif\" font-size=\"14.00\">extract_1</text>\n",
       "</g>\n",
       "<!-- 140113922945760&#45;&gt;140113922945280 -->\n",
       "<g id=\"edge1\" class=\"edge\">\n",
       "<title>140113922945760&#45;&gt;140113922945280</title>\n",
       "<path fill=\"none\" stroke=\"black\" d=\"M92.45,-175.41C108.88,-162.11 132.69,-142.84 151.05,-127.97\"/>\n",
       "<polygon fill=\"black\" stroke=\"black\" points=\"153.49,-130.5 159.06,-121.49 149.08,-125.06 153.49,-130.5\"/>\n",
       "<text text-anchor=\"middle\" x=\"146.69\" y=\"-144.8\" font-family=\"Times,serif\" font-size=\"14.00\">seoul</text>\n",
       "</g>\n",
       "<!-- 140113922945664 -->\n",
       "<g id=\"node3\" class=\"node\">\n",
       "<title>140113922945664</title>\n",
       "<ellipse fill=\"none\" stroke=\"black\" cx=\"178.19\" cy=\"-192\" rx=\"43.59\" ry=\"18\"/>\n",
       "<text text-anchor=\"middle\" x=\"178.19\" y=\"-188.3\" font-family=\"Times,serif\" font-size=\"14.00\">extract_3</text>\n",
       "</g>\n",
       "<!-- 140113922945664&#45;&gt;140113922945280 -->\n",
       "<g id=\"edge3\" class=\"edge\">\n",
       "<title>140113922945664&#45;&gt;140113922945280</title>\n",
       "<path fill=\"none\" stroke=\"black\" d=\"M178.19,-173.8C178.19,-162.16 178.19,-146.55 178.19,-133.24\"/>\n",
       "<polygon fill=\"black\" stroke=\"black\" points=\"181.7,-133.18 178.19,-123.18 174.7,-133.18 181.7,-133.18\"/>\n",
       "<text text-anchor=\"middle\" x=\"209.69\" y=\"-144.8\" font-family=\"Times,serif\" font-size=\"14.00\">washington</text>\n",
       "</g>\n",
       "<!-- 140113922945520 -->\n",
       "<g id=\"node4\" class=\"node\">\n",
       "<title>140113922945520</title>\n",
       "<ellipse fill=\"none\" stroke=\"black\" cx=\"57.19\" cy=\"-105\" rx=\"57.39\" ry=\"18\"/>\n",
       "<text text-anchor=\"middle\" x=\"57.19\" y=\"-101.3\" font-family=\"Times,serif\" font-size=\"14.00\">SQLiteScript</text>\n",
       "</g>\n",
       "<!-- 140113922945520&#45;&gt;140113923390768 -->\n",
       "<g id=\"edge2\" class=\"edge\">\n",
       "<title>140113922945520&#45;&gt;140113923390768</title>\n",
       "<path fill=\"none\" stroke=\"black\" d=\"M60.43,-86.8C62.64,-75.09 65.6,-59.34 68.12,-45.97\"/>\n",
       "<polygon fill=\"black\" stroke=\"black\" points=\"71.61,-46.36 70.02,-35.89 64.73,-45.07 71.61,-46.36\"/>\n",
       "</g>\n",
       "<!-- 140113922946096 -->\n",
       "<g id=\"node5\" class=\"node\">\n",
       "<title>140113922946096</title>\n",
       "<ellipse fill=\"none\" stroke=\"black\" cx=\"283.19\" cy=\"-192\" rx=\"43.59\" ry=\"18\"/>\n",
       "<text text-anchor=\"middle\" x=\"283.19\" y=\"-188.3\" font-family=\"Times,serif\" font-size=\"14.00\">extract_2</text>\n",
       "</g>\n",
       "<!-- 140113922946096&#45;&gt;140113922945280 -->\n",
       "<g id=\"edge5\" class=\"edge\">\n",
       "<title>140113922946096&#45;&gt;140113922945280</title>\n",
       "<path fill=\"none\" stroke=\"black\" d=\"M273.14,-174.18C266.25,-163.68 256.36,-150.43 245.19,-141 236.99,-134.07 227.18,-128 217.63,-122.94\"/>\n",
       "<polygon fill=\"black\" stroke=\"black\" points=\"219.13,-119.77 208.62,-118.4 215.98,-126.02 219.13,-119.77\"/>\n",
       "<text text-anchor=\"middle\" x=\"278.19\" y=\"-144.8\" font-family=\"Times,serif\" font-size=\"14.00\">london</text>\n",
       "</g>\n",
       "</g>\n",
       "</svg>\n"
      ],
      "text/plain": [
       "<graphviz.dot.Digraph at 0x7f6f800a06d0>"
      ]
     },
     "execution_count": 21,
     "metadata": {},
     "output_type": "execute_result"
    }
   ],
   "source": [
    "flow.visualize()"
   ]
  },
  {
   "cell_type": "code",
   "execution_count": 22,
   "id": "928e8fa7-408d-465f-a7b3-8b4a96afc445",
   "metadata": {},
   "outputs": [
    {
     "name": "stdout",
     "output_type": "stream",
     "text": [
      "[2021-11-04 17:27:35+1100] INFO - prefect.FlowRunner | Beginning Flow run for 'bikes-ETL'\n",
      "[2021-11-04 17:27:35+1100] INFO - prefect.TaskRunner | Task 'extract_1': Starting task run...\n",
      "[2021-11-04 17:27:35+1100] INFO - prefect.TaskRunner | Task 'extract_1': Finished task run for task with final state: 'Success'\n",
      "[2021-11-04 17:27:35+1100] INFO - prefect.TaskRunner | Task 'extract_3': Starting task run...\n",
      "[2021-11-04 17:27:36+1100] INFO - prefect.TaskRunner | Task 'extract_3': Finished task run for task with final state: 'Success'\n",
      "[2021-11-04 17:27:36+1100] INFO - prefect.TaskRunner | Task 'SQLiteScript': Starting task run...\n",
      "[2021-11-04 17:27:36+1100] INFO - prefect.TaskRunner | Task 'SQLiteScript': Finished task run for task with final state: 'Success'\n",
      "[2021-11-04 17:27:36+1100] INFO - prefect.TaskRunner | Task 'extract_2': Starting task run...\n",
      "[2021-11-04 17:27:36+1100] INFO - prefect.TaskRunner | Task 'extract_2': Finished task run for task with final state: 'Success'\n",
      "[2021-11-04 17:27:36+1100] INFO - prefect.TaskRunner | Task 'transform': Starting task run...\n",
      "[2021-11-04 17:27:36+1100] INFO - prefect.TaskRunner | Task 'transform': Finished task run for task with final state: 'Success'\n",
      "[2021-11-04 17:27:36+1100] INFO - prefect.TaskRunner | Task 'load': Starting task run...\n",
      "[2021-11-04 17:27:36+1100] INFO - prefect.TaskRunner | Task 'load': Finished task run for task with final state: 'Success'\n",
      "[2021-11-04 17:27:36+1100] INFO - prefect.FlowRunner | Flow run SUCCESS: all reference tasks succeeded\n"
     ]
    },
    {
     "data": {
      "text/plain": [
       "<Success: \"All reference tasks succeeded.\">"
      ]
     },
     "execution_count": 22,
     "metadata": {},
     "output_type": "execute_result"
    }
   ],
   "source": [
    "flow.run()"
   ]
  },
  {
   "cell_type": "code",
   "execution_count": 23,
   "id": "41f6172b-edc4-4b23-81fd-4ea7bd162b0f",
   "metadata": {},
   "outputs": [
    {
     "data": {
      "text/plain": [
       "0    2\n",
       "1    2\n",
       "2    2\n",
       "3    2\n",
       "4    2\n",
       "Name: week, dtype: int64"
      ]
     },
     "execution_count": 23,
     "metadata": {},
     "output_type": "execute_result"
    }
   ],
   "source": [
    "pd.read_csv(seoul_path, parse_dates=['Date'])['Date'].dt.isocalendar().week.astype(int).head()"
   ]
  },
  {
   "cell_type": "code",
   "execution_count": 24,
   "id": "955f5d9b-07da-430b-bdee-94f298efcf94",
   "metadata": {},
   "outputs": [
    {
     "data": {
      "text/html": [
       "<div>\n",
       "<style scoped>\n",
       "    .dataframe tbody tr th:only-of-type {\n",
       "        vertical-align: middle;\n",
       "    }\n",
       "\n",
       "    .dataframe tbody tr th {\n",
       "        vertical-align: top;\n",
       "    }\n",
       "\n",
       "    .dataframe thead th {\n",
       "        text-align: right;\n",
       "    }\n",
       "</style>\n",
       "<table border=\"1\" class=\"dataframe\">\n",
       "  <thead>\n",
       "    <tr style=\"text-align: right;\">\n",
       "      <th></th>\n",
       "      <th>date</th>\n",
       "      <th>count</th>\n",
       "      <th>temperature</th>\n",
       "      <th>humidity</th>\n",
       "      <th>wind_speed</th>\n",
       "      <th>is_holiday</th>\n",
       "      <th>is_weekend</th>\n",
       "      <th>seasons</th>\n",
       "      <th>year</th>\n",
       "      <th>month</th>\n",
       "      <th>week</th>\n",
       "      <th>day</th>\n",
       "      <th>hour</th>\n",
       "      <th>weekday</th>\n",
       "      <th>city</th>\n",
       "      <th>country</th>\n",
       "    </tr>\n",
       "  </thead>\n",
       "  <tbody>\n",
       "    <tr>\n",
       "      <th>0</th>\n",
       "      <td>2015-01-04</td>\n",
       "      <td>182</td>\n",
       "      <td>3.0</td>\n",
       "      <td>93.0</td>\n",
       "      <td>6.0</td>\n",
       "      <td>0.0</td>\n",
       "      <td>1</td>\n",
       "      <td>Winter</td>\n",
       "      <td>2015</td>\n",
       "      <td>1</td>\n",
       "      <td>1</td>\n",
       "      <td>4</td>\n",
       "      <td>0</td>\n",
       "      <td>6</td>\n",
       "      <td>London</td>\n",
       "      <td>UK</td>\n",
       "    </tr>\n",
       "    <tr>\n",
       "      <th>1</th>\n",
       "      <td>2015-01-04</td>\n",
       "      <td>138</td>\n",
       "      <td>3.0</td>\n",
       "      <td>93.0</td>\n",
       "      <td>5.0</td>\n",
       "      <td>0.0</td>\n",
       "      <td>1</td>\n",
       "      <td>Winter</td>\n",
       "      <td>2015</td>\n",
       "      <td>1</td>\n",
       "      <td>1</td>\n",
       "      <td>4</td>\n",
       "      <td>1</td>\n",
       "      <td>6</td>\n",
       "      <td>London</td>\n",
       "      <td>UK</td>\n",
       "    </tr>\n",
       "    <tr>\n",
       "      <th>2</th>\n",
       "      <td>2015-01-04</td>\n",
       "      <td>134</td>\n",
       "      <td>2.5</td>\n",
       "      <td>96.5</td>\n",
       "      <td>0.0</td>\n",
       "      <td>0.0</td>\n",
       "      <td>1</td>\n",
       "      <td>Winter</td>\n",
       "      <td>2015</td>\n",
       "      <td>1</td>\n",
       "      <td>1</td>\n",
       "      <td>4</td>\n",
       "      <td>2</td>\n",
       "      <td>6</td>\n",
       "      <td>London</td>\n",
       "      <td>UK</td>\n",
       "    </tr>\n",
       "    <tr>\n",
       "      <th>3</th>\n",
       "      <td>2015-01-04</td>\n",
       "      <td>72</td>\n",
       "      <td>2.0</td>\n",
       "      <td>100.0</td>\n",
       "      <td>0.0</td>\n",
       "      <td>0.0</td>\n",
       "      <td>1</td>\n",
       "      <td>Winter</td>\n",
       "      <td>2015</td>\n",
       "      <td>1</td>\n",
       "      <td>1</td>\n",
       "      <td>4</td>\n",
       "      <td>3</td>\n",
       "      <td>6</td>\n",
       "      <td>London</td>\n",
       "      <td>UK</td>\n",
       "    </tr>\n",
       "    <tr>\n",
       "      <th>4</th>\n",
       "      <td>2015-01-04</td>\n",
       "      <td>47</td>\n",
       "      <td>2.0</td>\n",
       "      <td>93.0</td>\n",
       "      <td>6.5</td>\n",
       "      <td>0.0</td>\n",
       "      <td>1</td>\n",
       "      <td>Winter</td>\n",
       "      <td>2015</td>\n",
       "      <td>1</td>\n",
       "      <td>1</td>\n",
       "      <td>4</td>\n",
       "      <td>4</td>\n",
       "      <td>6</td>\n",
       "      <td>London</td>\n",
       "      <td>UK</td>\n",
       "    </tr>\n",
       "  </tbody>\n",
       "</table>\n",
       "</div>"
      ],
      "text/plain": [
       "         date  count  temperature  humidity  wind_speed  is_holiday  \\\n",
       "0  2015-01-04    182          3.0      93.0         6.0         0.0   \n",
       "1  2015-01-04    138          3.0      93.0         5.0         0.0   \n",
       "2  2015-01-04    134          2.5      96.5         0.0         0.0   \n",
       "3  2015-01-04     72          2.0     100.0         0.0         0.0   \n",
       "4  2015-01-04     47          2.0      93.0         6.5         0.0   \n",
       "\n",
       "   is_weekend seasons  year  month  week  day  hour  weekday    city country  \n",
       "0           1  Winter  2015      1     1    4     0        6  London      UK  \n",
       "1           1  Winter  2015      1     1    4     1        6  London      UK  \n",
       "2           1  Winter  2015      1     1    4     2        6  London      UK  \n",
       "3           1  Winter  2015      1     1    4     3        6  London      UK  \n",
       "4           1  Winter  2015      1     1    4     4        6  London      UK  "
      ]
     },
     "execution_count": 24,
     "metadata": {},
     "output_type": "execute_result"
    }
   ],
   "source": [
    "pd.read_sql_query(\"SELECT * FROM bike_sharing\", sqlite3.connect(clean_db_path)).head()"
   ]
  },
  {
   "cell_type": "code",
   "execution_count": null,
   "id": "8d79eec9-7b8a-46f1-a916-0d6a620ba15f",
   "metadata": {},
   "outputs": [],
   "source": []
  },
  {
   "cell_type": "code",
   "execution_count": 25,
   "id": "c2e2018d-0b73-41f1-8742-97ee4a914383",
   "metadata": {},
   "outputs": [
    {
     "data": {
      "text/plain": [
       "count    43553.000000\n",
       "mean        26.702363\n",
       "std         15.053385\n",
       "min          1.000000\n",
       "25%         14.000000\n",
       "50%         27.000000\n",
       "75%         40.000000\n",
       "max         53.000000\n",
       "Name: week, dtype: float64"
      ]
     },
     "execution_count": 25,
     "metadata": {},
     "output_type": "execute_result"
    }
   ],
   "source": [
    "pd.read_parquet(clean_path).week.describe()"
   ]
  },
  {
   "cell_type": "code",
   "execution_count": null,
   "id": "1b985e80-e551-430f-b99f-32a7a7004079",
   "metadata": {},
   "outputs": [],
   "source": []
  }
 ],
 "metadata": {
  "kernelspec": {
   "display_name": "Python 3 (ipykernel)",
   "language": "python",
   "name": "python3"
  },
  "language_info": {
   "codemirror_mode": {
    "name": "ipython",
    "version": 3
   },
   "file_extension": ".py",
   "mimetype": "text/x-python",
   "name": "python",
   "nbconvert_exporter": "python",
   "pygments_lexer": "ipython3",
   "version": "3.9.7"
  }
 },
 "nbformat": 4,
 "nbformat_minor": 5
}
